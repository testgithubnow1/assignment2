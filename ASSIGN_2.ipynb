{
  "nbformat": 4,
  "nbformat_minor": 0,
  "metadata": {
    "colab": {
      "name": "ASSIGN 2.ipynb",
      "provenance": [],
      "collapsed_sections": []
    },
    "kernelspec": {
      "name": "python3",
      "display_name": "Python 3"
    }
  },
  "cells": [
    {
      "cell_type": "code",
      "metadata": {
        "id": "C5EOTUdHmKD0",
        "outputId": "059d11c0-f46f-4c0f-f466-b405613e3306",
        "colab": {
          "base_uri": "https://localhost:8080/"
        }
      },
      "source": [
        "# Answer 1\n",
        "\n",
        "list1=[]\n",
        "for i in range(10):\n",
        "  ele=int(input())\n",
        "  \n",
        "  if ele % 2 == 0:\n",
        "    list1.append(ele)\n",
        "  else:\n",
        "    pass\n",
        "\n",
        "print(list1)\n",
        "\n"
      ],
      "execution_count": null,
      "outputs": [
        {
          "output_type": "stream",
          "text": [
            "1\n",
            "3\n",
            "5\n",
            "7\n",
            "9\n",
            "13\n",
            "17\n",
            "21\n",
            "8\n",
            "4\n",
            "[8, 4]\n"
          ],
          "name": "stdout"
        }
      ]
    },
    {
      "cell_type": "code",
      "metadata": {
        "id": "fndgxygWoOfT"
      },
      "source": [
        "# Answer 2\n",
        "\n",
        "# LIST COMPREHENSION"
      ],
      "execution_count": null,
      "outputs": []
    },
    {
      "cell_type": "code",
      "metadata": {
        "id": "9-ynmROuoV8Z",
        "outputId": "95f937f3-6701-480b-d800-e2e363f94e58",
        "colab": {
          "base_uri": "https://localhost:8080/"
        }
      },
      "source": [
        "# Answer 3\n",
        "\n",
        "n = int(input())\n",
        "dic = dict()\n",
        "\n",
        "for i in range(1,n+1):\n",
        "  dic[i]=i*i\n",
        "print(dic)\n"
      ],
      "execution_count": null,
      "outputs": [
        {
          "output_type": "stream",
          "text": [
            "4\n",
            "{1: 1, 2: 4, 3: 9, 4: 16}\n"
          ],
          "name": "stdout"
        }
      ]
    },
    {
      "cell_type": "code",
      "metadata": {
        "id": "GgWiU1BXNrMP"
      },
      "source": [
        ""
      ],
      "execution_count": null,
      "outputs": []
    }
  ]
}